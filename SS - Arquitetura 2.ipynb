{
 "cells": [
  {
   "cell_type": "code",
   "execution_count": 1,
   "metadata": {},
   "outputs": [],
   "source": [
    "import numpy as np\n",
    "\n",
    "import matplotlib\n",
    "from matplotlib import pyplot as plt\n",
    "\n",
    "from IPython.display import HTML\n",
    "from IPython.display import display\n",
    "\n",
    "from skeleton_models import ntu_rgbd, get_kernel_by_group, ntu_ss_1, ntu_ss_2, ntu_ss_3, partial\n",
    "\n",
    "from zoo_pose_embedding import TwoLayersGCNPoseEmbedding\n",
    "from zoo_action_encoder_units import TransformerEncoderUnit\n",
    "from zoo_action_decoder_units import TransformerDecoderUnit\n",
    "from zoo_upsampling import StepByStepUpsampling, JoaosUpsampling\n",
    "\n",
    "from model import ActionEmbeddingTransformer\n",
    "from layers import subsequent_mask\n",
    "\n",
    "from render import animate\n",
    "import math, copy, time\n",
    "import torch\n",
    "import torch.nn as nn\n",
    "import torch.nn.functional as F\n",
    "from torch.utils.data import Dataset, DataLoader\n",
    "\n",
    "import os, glob"
   ]
  },
  {
   "cell_type": "code",
   "execution_count": 2,
   "metadata": {},
   "outputs": [],
   "source": [
    "sample_data = np.load('../datasets/NTURGB-D/Python/raw_npy/S003C001P008R002A023.skeleton.npy', allow_pickle=True)[()]"
   ]
  },
  {
   "cell_type": "code",
   "execution_count": 3,
   "metadata": {},
   "outputs": [
    {
     "name": "stdout",
     "output_type": "stream",
     "text": [
      "[[1 1 1 1 1]\n",
      " [1 1 0 0 0]\n",
      " [1 0 1 0 0]\n",
      " [1 0 0 1 0]\n",
      " [1 0 0 0 1]]\n",
      "(5, 5)\n"
     ]
    }
   ],
   "source": [
    "# Um equeleto com 5 vertices\n",
    "A = np.array([\n",
    "[ 1, 1, 1, 1, 1],\n",
    "[ 1, 1, 0, 0, 0],\n",
    "[ 1, 0, 1, 0, 0],\n",
    "[ 1, 0, 0, 1, 0],\n",
    "[ 1, 0, 0, 0, 1],\n",
    "    ])\n",
    "print(A)\n",
    "print(A.shape)"
   ]
  },
  {
   "cell_type": "code",
   "execution_count": 4,
   "metadata": {},
   "outputs": [
    {
     "name": "stdout",
     "output_type": "stream",
     "text": [
      "[[[1 1 1 1 1]\n",
      "  [1 1 0 0 0]\n",
      "  [1 0 1 0 0]\n",
      "  [1 0 0 1 0]\n",
      "  [1 0 0 0 1]]\n",
      "\n",
      " [[1 1 1 1 1]\n",
      "  [1 1 0 0 0]\n",
      "  [1 0 1 0 0]\n",
      "  [1 0 0 1 0]\n",
      "  [1 0 0 0 1]]]\n",
      "(2, 5, 5)\n"
     ]
    }
   ],
   "source": [
    "# Uma matriz de adjacencias de multigrafo tamanho 2\n",
    "Am = np.stack((A,A))\n",
    "print(Am)\n",
    "print(Am.shape) # K, V, V"
   ]
  },
  {
   "cell_type": "code",
   "execution_count": 5,
   "metadata": {},
   "outputs": [
    {
     "name": "stdout",
     "output_type": "stream",
     "text": [
      "[[ 0  0]\n",
      " [ 1  1]\n",
      " [-2  1]\n",
      " [ 1 -1]\n",
      " [-1 -2]]\n",
      "(5, 2)\n"
     ]
    }
   ],
   "source": [
    "# Uma pose com vertices no espaço 2D\n",
    "X = np.array([\n",
    "    [0, 0],\n",
    "    [1, 1],\n",
    "    [-2, 1],\n",
    "    [1, -1],\n",
    "    [-1, -2]\n",
    "])\n",
    "print(X)\n",
    "print(X.shape) "
   ]
  },
  {
   "cell_type": "code",
   "execution_count": 6,
   "metadata": {},
   "outputs": [
    {
     "name": "stdout",
     "output_type": "stream",
     "text": [
      "(7, 5, 2)\n"
     ]
    }
   ],
   "source": [
    "# Um grupo de 7 poses\n",
    "Xm = np.stack((X,X,X,X,X,X,X))\n",
    "# print(Xm)\n",
    "print(Xm.shape) # N, V, C"
   ]
  },
  {
   "cell_type": "code",
   "execution_count": 7,
   "metadata": {},
   "outputs": [
    {
     "data": {
      "text/plain": [
       "(7, 3, 5, 2)"
      ]
     },
     "execution_count": 7,
     "metadata": {},
     "output_type": "execute_result"
    }
   ],
   "source": [
    "# Um grupo (7 amostras) de sequencias temporais (3 instantes) de poses\n",
    "Xmt = np.stack((Xm, Xm, Xm), axis=1)\n",
    "Xmt.shape"
   ]
  },
  {
   "cell_type": "code",
   "execution_count": 8,
   "metadata": {},
   "outputs": [
    {
     "name": "stdout",
     "output_type": "stream",
     "text": [
      "torch.Size([2, 5, 5])\n",
      "torch.Size([7, 3, 5, 2])\n"
     ]
    }
   ],
   "source": [
    "# Converte para tensor\n",
    "\n",
    "Ain = torch.from_numpy(Am).float()\n",
    "print(Ain.size())\n",
    "\n",
    "Xin = torch.from_numpy(Xmt).float()\n",
    "print(Xin.size())\n"
   ]
  },
  {
   "cell_type": "code",
   "execution_count": 9,
   "metadata": {},
   "outputs": [],
   "source": [
    "conf_kernel_size = 2\n",
    "conf_num_nodes = 5\n",
    "conf_heads = 1\n",
    "conf_encoding_per_node = 20\n",
    "conf_internal_per_node = int(conf_encoding_per_node/conf_heads)\n",
    "\n",
    "class BetterThatBestModel(nn.Module):\n",
    "    def __init__(self):\n",
    "        super().__init__()\n",
    "        self.model = ActionEmbeddingTransformer(\n",
    "            TwoLayersGCNPoseEmbedding(\n",
    "                2,\n",
    "                conf_encoding_per_node,\n",
    "                conf_kernel_size,\n",
    "                num_nodes = conf_num_nodes\n",
    "            ),\n",
    "            TransformerEncoderUnit (\n",
    "                heads=conf_heads,\n",
    "                embedding_in=conf_num_nodes*conf_encoding_per_node,\n",
    "                embedding_out=conf_num_nodes*conf_internal_per_node\n",
    "            ),\n",
    "            TransformerDecoderUnit(\n",
    "                heads=conf_heads,\n",
    "                embedding_in=conf_num_nodes*conf_encoding_per_node,\n",
    "                embedding_out=conf_num_nodes*conf_internal_per_node,\n",
    "                memory_in=conf_num_nodes*conf_encoding_per_node\n",
    "            ),\n",
    "\n",
    "            JoaosUpsampling(\n",
    "                conf_num_nodes,\n",
    "                conf_encoding_per_node*conf_num_nodes,\n",
    "                node_channel_out = 2\n",
    "            )\n",
    "        )\n",
    "\n",
    "    def forward(self, x_in, x_out, A, mask):\n",
    "        return self.model(x_in, x_out, A, mask)"
   ]
  },
  {
   "cell_type": "code",
   "execution_count": 10,
   "metadata": {},
   "outputs": [
    {
     "name": "stdout",
     "output_type": "stream",
     "text": [
      "torch.Size([7, 3, 100])\n",
      "torch.Size([7, 3, 100])\n",
      "torch.Size([7, 3, 25, 2])\n"
     ]
    }
   ],
   "source": [
    "a = BetterThatBestModel()\n",
    "out = a(Xin, Xin, Ain, subsequent_mask(3))\n",
    "print(out.size())"
   ]
  },
  {
   "cell_type": "code",
   "execution_count": 11,
   "metadata": {},
   "outputs": [
    {
     "data": {
      "text/plain": [
       "torch.Size([7, 3, 5, 2])"
      ]
     },
     "execution_count": 11,
     "metadata": {},
     "output_type": "execute_result"
    }
   ],
   "source": [
    "Xin.size()"
   ]
  },
  {
   "cell_type": "code",
   "execution_count": 12,
   "metadata": {},
   "outputs": [
    {
     "data": {
      "text/plain": [
       "tensor([[  0., 100., 200., 300., 400.],\n",
       "        [ 10., 110., 210., 310., 410.],\n",
       "        [ 20., 120., 220., 320., 420.],\n",
       "        [ 30., 130., 230., 330., 430.]])"
      ]
     },
     "execution_count": 12,
     "metadata": {},
     "output_type": "execute_result"
    }
   ],
   "source": [
    "A = 3\n",
    "B = 4\n",
    "C = 5\n",
    "D = 6\n",
    "teste = torch.zeros( (A,B,C,D) ) \n",
    "\n",
    "for a in range(3):\n",
    "    for b in range(4):\n",
    "        for c in range(5):\n",
    "            for d in range(6):\n",
    "                teste[a,b,c,d] = a + 10*b + 100*c + 1000*d\n",
    "\n",
    "teste[0,:,:,0] "
   ]
  },
  {
   "cell_type": "code",
   "execution_count": 13,
   "metadata": {},
   "outputs": [
    {
     "name": "stdout",
     "output_type": "stream",
     "text": [
      "tensor([[   0.,  100.,  200.,  300.,  400.],\n",
      "        [1000., 1100., 1200., 1300., 1400.],\n",
      "        [2000., 2100., 2200., 2300., 2400.],\n",
      "        [3000., 3100., 3200., 3300., 3400.],\n",
      "        [4000., 4100., 4200., 4300., 4400.],\n",
      "        [5000., 5100., 5200., 5300., 5400.]])\n",
      "tensor([   0.,  100.,  200.,  300.,  400., 1000., 1100., 1200., 1300., 1400.,\n",
      "        2000., 2100., 2200., 2300., 2400., 3000., 3100., 3200., 3300., 3400.,\n",
      "        4000., 4100., 4200., 4300., 4400., 5000., 5100., 5200., 5300., 5400.])\n",
      "tensor([   0., 1000., 2000., 3000., 4000., 5000.])\n",
      "tensor([  0.,  10.,  20.,  30., 100., 110., 120., 130., 200., 210., 220., 230.,\n",
      "        300., 310., 320., 330., 400., 410., 420., 430.])\n",
      "tensor([  0., 100., 200., 300., 400.])\n",
      "tensor([   0., 1000., 2000., 3000., 4000., 5000.,   10., 1010., 2010., 3010.,\n",
      "        4010., 5010.,   20., 1020., 2020., 3020., 4020., 5020.,   30., 1030.,\n",
      "        2030., 3030., 4030., 5030.])\n",
      "tensor([ 0., 10., 20., 30.])\n",
      "tensor([[  0., 100., 200., 300., 400.],\n",
      "        [ 10., 110., 210., 310., 410.],\n",
      "        [ 20., 120., 220., 320., 420.],\n",
      "        [ 30., 130., 230., 330., 430.]])\n"
     ]
    }
   ],
   "source": [
    "t = teste.permute(0,3,2,1) # [A,B,C,D] -> [A, D, C, B]\n",
    "print(t[0,:,:,0])\n",
    "t = t.contiguous().view(A, D*C, B)\n",
    "print(t[0,:,0])\n",
    "t = t.contiguous().view(A, D, C*B)\n",
    "print(t[0,:,0])\n",
    "t = t.permute(0,2,1) # [A,D,C*B] -> [A,C*B,D]\n",
    "print(t[0,:,0])\n",
    "t = t.contiguous().view(A, C, B*D)\n",
    "print(t[0,:,0])\n",
    "t = t.permute(0,2,1) # [A,C,B*D] -> [A,B*D,C]\n",
    "print(t[0,:,0])\n",
    "t = t.contiguous().view(A, B, D, C)\n",
    "print(t[0,:,0, 0])\n",
    "t = t.permute(0,1,3,2) # [A,B,D,C] -> [A,B,C,D]\n",
    "print(t[0,:,:,0])"
   ]
  },
  {
   "cell_type": "code",
   "execution_count": 14,
   "metadata": {},
   "outputs": [],
   "source": [
    "def calculate_params(heads, num_nodes, scale_factor):\n",
    "    channel_out = scale_factor*num_nodes\n",
    "    channel_in = heads * channel_out\n",
    "    return channel_in, channel_out"
   ]
  },
  {
   "cell_type": "code",
   "execution_count": 15,
   "metadata": {},
   "outputs": [
    {
     "data": {
      "text/plain": [
       "(800, 100)"
      ]
     },
     "execution_count": 15,
     "metadata": {},
     "output_type": "execute_result"
    }
   ],
   "source": [
    "calculate_params(8, 25, 4)"
   ]
  },
  {
   "cell_type": "code",
   "execution_count": null,
   "metadata": {},
   "outputs": [],
   "source": []
  }
 ],
 "metadata": {
  "kernelspec": {
   "display_name": "Python 3",
   "language": "python",
   "name": "python3"
  },
  "language_info": {
   "codemirror_mode": {
    "name": "ipython",
    "version": 3
   },
   "file_extension": ".py",
   "mimetype": "text/x-python",
   "name": "python",
   "nbconvert_exporter": "python",
   "pygments_lexer": "ipython3",
   "version": "3.8.5"
  }
 },
 "nbformat": 4,
 "nbformat_minor": 4
}
