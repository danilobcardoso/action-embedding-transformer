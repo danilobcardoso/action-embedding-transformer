{
 "cells": [
  {
   "cell_type": "code",
   "execution_count": 11,
   "metadata": {},
   "outputs": [],
   "source": [
    "import numpy as np\n",
    "\n",
    "import matplotlib\n",
    "from matplotlib import pyplot as plt\n",
    "\n",
    "from IPython.display import HTML\n",
    "from IPython.display import display\n",
    "\n",
    "from skeleton_models import ntu_rgbd, get_kernel_by_group, ntu_ss_1, ntu_ss_2, ntu_ss_3, partial\n",
    "\n",
    "from zoo_pose_encoders import TwoLayersGCNPoseEncoder\n",
    "from zoo_action_encoder_units import EncoderUnit\n",
    "from zoo_action_decoder_units import DecoderUnit\n",
    "from zoo_upsampling import StepByStepUpsampling\n",
    "\n",
    "from model import ActionEmbeddingTransformer\n",
    "from layers import subsequent_mask\n",
    "\n",
    "from render import animate\n",
    "import math, copy, time\n",
    "import torch\n",
    "import torch.nn as nn\n",
    "import torch.nn.functional as F\n",
    "from torch.utils.data import Dataset, DataLoader\n",
    "\n",
    "import os, glob"
   ]
  },
  {
   "cell_type": "code",
   "execution_count": 12,
   "metadata": {},
   "outputs": [],
   "source": [
    "sample_data = np.load('../datasets/NTURGB-D/Python/raw_npy/S003C001P008R002A023.skeleton.npy', allow_pickle=True)[()]"
   ]
  },
  {
   "cell_type": "code",
   "execution_count": 13,
   "metadata": {},
   "outputs": [
    {
     "name": "stdout",
     "output_type": "stream",
     "text": [
      "[[1 1 1 1 1]\n",
      " [1 1 0 0 0]\n",
      " [1 0 1 0 0]\n",
      " [1 0 0 1 0]\n",
      " [1 0 0 0 1]]\n",
      "(5, 5)\n"
     ]
    }
   ],
   "source": [
    "# Um equeleto com 5 vertices\n",
    "A = np.array([\n",
    "[ 1, 1, 1, 1, 1],\n",
    "[ 1, 1, 0, 0, 0],\n",
    "[ 1, 0, 1, 0, 0],\n",
    "[ 1, 0, 0, 1, 0],\n",
    "[ 1, 0, 0, 0, 1],\n",
    "    ])\n",
    "print(A)\n",
    "print(A.shape)"
   ]
  },
  {
   "cell_type": "code",
   "execution_count": 14,
   "metadata": {},
   "outputs": [
    {
     "name": "stdout",
     "output_type": "stream",
     "text": [
      "[[[1 1 1 1 1]\n",
      "  [1 1 0 0 0]\n",
      "  [1 0 1 0 0]\n",
      "  [1 0 0 1 0]\n",
      "  [1 0 0 0 1]]\n",
      "\n",
      " [[1 1 1 1 1]\n",
      "  [1 1 0 0 0]\n",
      "  [1 0 1 0 0]\n",
      "  [1 0 0 1 0]\n",
      "  [1 0 0 0 1]]]\n",
      "(2, 5, 5)\n"
     ]
    }
   ],
   "source": [
    "# Uma matriz de adjacencias de multigrafo tamanho 2\n",
    "Am = np.stack((A,A))\n",
    "print(Am)\n",
    "print(Am.shape) # K, V, V"
   ]
  },
  {
   "cell_type": "code",
   "execution_count": 15,
   "metadata": {},
   "outputs": [
    {
     "name": "stdout",
     "output_type": "stream",
     "text": [
      "[[ 0  0]\n",
      " [ 1  1]\n",
      " [-2  1]\n",
      " [ 1 -1]\n",
      " [-1 -2]]\n",
      "(5, 2)\n"
     ]
    }
   ],
   "source": [
    "# Uma pose com vertices no espaço 2D\n",
    "X = np.array([\n",
    "    [0, 0],\n",
    "    [1, 1],\n",
    "    [-2, 1],\n",
    "    [1, -1],\n",
    "    [-1, -2]\n",
    "])\n",
    "print(X)\n",
    "print(X.shape) "
   ]
  },
  {
   "cell_type": "code",
   "execution_count": 16,
   "metadata": {},
   "outputs": [
    {
     "name": "stdout",
     "output_type": "stream",
     "text": [
      "(7, 5, 2)\n"
     ]
    }
   ],
   "source": [
    "# Um grupo de 7 poses\n",
    "Xm = np.stack((X,X,X,X,X,X,X))\n",
    "# print(Xm)\n",
    "print(Xm.shape) # N, V, C"
   ]
  },
  {
   "cell_type": "code",
   "execution_count": 17,
   "metadata": {},
   "outputs": [
    {
     "data": {
      "text/plain": [
       "(7, 3, 5, 2)"
      ]
     },
     "execution_count": 17,
     "metadata": {},
     "output_type": "execute_result"
    }
   ],
   "source": [
    "# Um grupo (7 amostras) de sequencias temporais (3 instantes) de poses\n",
    "Xmt = np.stack((Xm, Xm, Xm), axis=1)\n",
    "Xmt.shape"
   ]
  },
  {
   "cell_type": "code",
   "execution_count": 18,
   "metadata": {},
   "outputs": [
    {
     "name": "stdout",
     "output_type": "stream",
     "text": [
      "torch.Size([2, 5, 5])\n",
      "torch.Size([7, 3, 5, 2])\n",
      "torch.Size([7, 2, 3, 5])\n"
     ]
    }
   ],
   "source": [
    "# Converte para tensor\n",
    "\n",
    "Ain = torch.from_numpy(Am).float()\n",
    "print(Ain.size())\n",
    "\n",
    "Xin = torch.from_numpy(Xmt).float()\n",
    "print(Xin.size())\n",
    "\n",
    "Xin = Xin.permute(0, 3, 1, 2).contiguous()\n",
    "print(Xin.size())"
   ]
  },
  {
   "cell_type": "code",
   "execution_count": 19,
   "metadata": {},
   "outputs": [],
   "source": [
    "conf_kernel_size = 2\n",
    "conf_num_nodes = 5\n",
    "conf_heads = 1\n",
    "conf_encoding_per_node = 20\n",
    "conf_internal_per_node = int(conf_encoding_per_node/conf_heads)\n",
    "\n",
    "class BetterThatBestModel(nn.Module):\n",
    "    def __init__(self):\n",
    "        super().__init__()\n",
    "        self.model = ActionEmbeddingTransformer(\n",
    "            TwoLayersGCNPoseEncoder(\n",
    "                2,\n",
    "                conf_encoding_per_node,\n",
    "                conf_kernel_size\n",
    "            ),\n",
    "            EncoderUnit(\n",
    "                heads=conf_heads,\n",
    "                node_channel_in=conf_encoding_per_node,\n",
    "                node_channel_mid=conf_internal_per_node,\n",
    "                node_channel_out=conf_encoding_per_node,\n",
    "                num_nodes=conf_num_nodes,\n",
    "                kernel_size=conf_kernel_size\n",
    "            ),\n",
    "            DecoderUnit(\n",
    "                heads=conf_heads,\n",
    "                node_channel_in=conf_encoding_per_node,\n",
    "                memory_channel_in=conf_encoding_per_node,\n",
    "                node_channel_mid=(conf_internal_per_node,conf_internal_per_node),\n",
    "                node_channel_out=conf_encoding_per_node,\n",
    "                num_nodes=conf_num_nodes,\n",
    "                kernel_size=conf_kernel_size\n",
    "            ),\n",
    "\n",
    "            StepByStepUpsampling(\n",
    "               conf_num_nodes,\n",
    "               conf_encoding_per_node\n",
    "            )\n",
    "        )\n",
    "\n",
    "    def forward(self, x_in, x_out, A, mask):\n",
    "        return self.model(x_in, x_out, A, mask)"
   ]
  },
  {
   "cell_type": "code",
   "execution_count": 20,
   "metadata": {},
   "outputs": [
    {
     "name": "stdout",
     "output_type": "stream",
     "text": [
      "torch.Size([7, 3, 3, 1])\n",
      "torch.Size([7, 3, 3, 5])\n",
      "torch.Size([7, 3, 3, 9])\n"
     ]
    }
   ],
   "source": [
    "a = BetterThatBestModel()\n",
    "out = a(Xin, Xin, Ain, subsequent_mask(3))\n",
    "print(out[0].size())\n",
    "print(out[1].size())\n",
    "print(out[2].size())"
   ]
  },
  {
   "cell_type": "code",
   "execution_count": null,
   "metadata": {},
   "outputs": [],
   "source": []
  },
  {
   "cell_type": "code",
   "execution_count": null,
   "metadata": {},
   "outputs": [],
   "source": []
  }
 ],
 "metadata": {
  "kernelspec": {
   "display_name": "Python 3",
   "language": "python",
   "name": "python3"
  },
  "language_info": {
   "codemirror_mode": {
    "name": "ipython",
    "version": 3
   },
   "file_extension": ".py",
   "mimetype": "text/x-python",
   "name": "python",
   "nbconvert_exporter": "python",
   "pygments_lexer": "ipython3",
   "version": "3.8.5"
  }
 },
 "nbformat": 4,
 "nbformat_minor": 4
}
